{
 "cells": [
  {
   "cell_type": "markdown",
   "id": "4193a91b",
   "metadata": {},
   "source": [
    "## TPC8: Teste de aferição \n",
    "\n",
    "Resolva os problemas apresentados a seguir."
   ]
  },
  {
   "cell_type": "markdown",
   "id": "ecb162bd",
   "metadata": {},
   "source": [
    "### tpc-1. Especifique as seguintes listas em compreensão:"
   ]
  },
  {
   "cell_type": "markdown",
   "id": "4e758271",
   "metadata": {},
   "source": [
    "#### a) Lista formada pelos elementos que não são comuns às duas listas:"
   ]
  },
  {
   "cell_type": "code",
   "execution_count": 1,
   "id": "1fe48423",
   "metadata": {},
   "outputs": [
    {
     "name": "stdout",
     "output_type": "stream",
     "text": [
      "[2, 4, 7]\n"
     ]
    }
   ],
   "source": [
    "lista1 = [1,2,3,4,5]\n",
    "lista2 = [1,3,5,7]  \n",
    "ncomuns = [...]\n",
    "\n",
    "def ncomuns(lista1,lista2):\n",
    "    ncomuns = []\n",
    "    for n in lista1:\n",
    "        if n not in lista2: # se n da lista 1 nao estiver na lista 2, fazemos append do numero \n",
    "            ncomuns.append(n)\n",
    "    for elemento in lista2: #esta é o contrario da de cima, para confirmar que nao esta em nenhuma lista \n",
    "        if elemento not in lista1:\n",
    "            ncomuns.append(elemento)  \n",
    "    return ncomuns      \n",
    "\n",
    "print (ncomuns(lista1,lista2))\n",
    "# Resultado esperado: [2,4,7]"
   ]
  },
  {
   "cell_type": "markdown",
   "id": "0ded2f03",
   "metadata": {},
   "source": [
    "#### b) Lista formada pelas palavras do texto compostas por mais de 3 letras:"
   ]
  },
  {
   "cell_type": "code",
   "execution_count": 2,
   "id": "601fee93",
   "metadata": {},
   "outputs": [
    {
     "name": "stdout",
     "output_type": "stream",
     "text": [
      "['Vivia', 'poucos', 'anos', 'algures', 'concelho', 'Ribatejo', 'pequeno', 'lavrador', 'negociante', 'gado', 'chamado', 'Manuel', 'Peres', 'Vigário']\n"
     ]
    }
   ],
   "source": [
    "texto = \"\"\"Vivia há já não poucos anos algures num concelho do Ribatejo \n",
    "    um pequeno lavrador e negociante de gado chamado Manuel Peres Vigário\"\"\"\n",
    "texto2=texto.split()\n",
    "lista=[]\n",
    "for palavra in texto2:\n",
    "    if len(palavra)>3: # se o tamanho da palavra for superior a 3, então fazemos append\n",
    "        lista.append(palavra)\n",
    "print(lista)"
   ]
  },
  {
   "cell_type": "markdown",
   "id": "ecf72afd",
   "metadata": {},
   "source": [
    "#### c) Lista formada por pares do tipo (índice, valor) com os valores da lista dada:"
   ]
  },
  {
   "cell_type": "code",
   "execution_count": 31,
   "id": "876b2cc3",
   "metadata": {},
   "outputs": [
    {
     "name": "stdout",
     "output_type": "stream",
     "text": [
      "[(1, 'anaconda'), (2, 'burro'), (3, 'cavalo'), (4, 'macaco')]\n"
     ]
    }
   ],
   "source": [
    "lista = ['anaconda', 'burro', 'cavalo', 'macaco']\n",
    "listaRes = []\n",
    "indice=0\n",
    "for palavra in lista:\n",
    "    indice=indice+1 # indice começa no 0, logo precisamos de adicionar 1 ao indice do computador\n",
    "    registo= (indice,palavra) # \"configuraçaõ\" do registo \n",
    "    listaRes.append (registo)\n",
    "    \n",
    "print (listaRes)\n",
    "# Resultado esperado: [(1,'anaconda'), (2,'burro'), (3,'cavalo'), (4,'macaco')]"
   ]
  },
  {
   "cell_type": "markdown",
   "id": "28cb3dc4",
   "metadata": {},
   "source": [
    "### tpc-2. À semelhança do que foi feito nas aulas, realize as seguintes tarefas:"
   ]
  },
  {
   "cell_type": "markdown",
   "id": "5d3f1dbe",
   "metadata": {},
   "source": [
    "#### a) Especifique uma função que dada uma string e uma substring não vazia, calcula  o número de vezes em que a substring aparece na string, sem que haja sobreposição de substrings:"
   ]
  },
  {
   "cell_type": "code",
   "execution_count": 5,
   "id": "4458c7bc",
   "metadata": {},
   "outputs": [
    {
     "name": "stdout",
     "output_type": "stream",
     "text": [
      "2\n",
      "1\n",
      "0\n"
     ]
    },
    {
     "data": {
      "text/plain": [
       "0"
      ]
     },
     "execution_count": 5,
     "metadata": {},
     "output_type": "execute_result"
    }
   ],
   "source": [
    "def strCount(s, subs):\n",
    "    tamanhodesubs = len(subs)\n",
    "    palavra = \"\"\n",
    "    res = 0\n",
    "    while len(s) >= tamanhodesubs:\n",
    "        palavra = s[:tamanhodesubs] #do inicio ate ao tamanho da substring\n",
    "        if palavra == subs: #se igual\n",
    "            res = res + 1   #contabilizamos\n",
    "        s = s[1:] #ver o caracter a seguir \n",
    "\n",
    "    return res\n",
    "\n",
    "print (strCount(\"catcowcat\", \"cat\")) \n",
    "print (strCount(\"catcowcat\", \"cow\")) \n",
    "print (strCount(\"catcowcat\", \"dog\"))\n",
    "\n",
    "strCount(\"catcowcat\", \"cat\")\n",
    "strCount(\"catcowcat\", \"cow\") \n",
    "strCount(\"catcowcat\", \"dog\") "
   ]
  },
  {
   "cell_type": "markdown",
   "id": "e6db31d7",
   "metadata": {},
   "source": [
    "#### b) Especifique uma função que recebe uma lista de números inteiros positivos e devolve o menor produto que for possível calcular multiplicando os 3 menores inteiros da lista:"
   ]
  },
  {
   "cell_type": "code",
   "execution_count": 37,
   "id": "2b5ad344",
   "metadata": {},
   "outputs": [
    {
     "name": "stdout",
     "output_type": "stream",
     "text": [
      "168\n"
     ]
    }
   ],
   "source": [
    "def produtoM3(lista):\n",
    "    lista.sort() #vamos ordenar a list\n",
    "    resultado=[]\n",
    "    for n in lista:\n",
    "        resultado= lista[0]*lista[1]*lista[2] #pegar nos 3 primeiros elementos, que são os menore, e multiplicar\n",
    "    return resultado \n",
    " \n",
    "print(produtoM3([12,3,7,10,12,8,9]))\n"
   ]
  },
  {
   "cell_type": "markdown",
   "id": "6698b337",
   "metadata": {},
   "source": [
    "#### c) Especifique uma função que dado um número inteiro positivo, repetidamente adiciona os seus dígitos até obter apenas um dígito que é retornado como resultado:"
   ]
  },
  {
   "cell_type": "code",
   "execution_count": 4,
   "id": "54cef309",
   "metadata": {},
   "outputs": [
    {
     "name": "stdout",
     "output_type": "stream",
     "text": [
      "['7', '7', '7']\n",
      "21\n",
      "3\n",
      "['3']\n"
     ]
    }
   ],
   "source": [
    "# Input: 38\n",
    "# Output: 2\n",
    "# Explicação: 3 + 8 = 11, 1 + 1 = 2.\n",
    "\n",
    "# Input: 777\n",
    "# Output: 3\n",
    "# Explicação: 7 + 7 + 7 = 21, 2 + 1 = 3.\n",
    "\n",
    "def reduxInt1 (a,b):\n",
    "    i = 0\n",
    "    soma = 0\n",
    "    while i < len(a) :\n",
    "        soma = soma + int(a [i])\n",
    "        i = i + 1\n",
    "    return soma \n",
    "        \n",
    "    \n",
    "\n",
    "def reduxInt2 (n):\n",
    "    m = list(str(n))\n",
    "    print(m)\n",
    "    somar = 0\n",
    "    while len(m) != 1 : \n",
    "        i = 0 \n",
    "        somar = reduxInt1(m,len(m)-1)\n",
    "        print (somar)\n",
    "        m = list(str(somar))\n",
    "    return str(m)\n",
    "                  \n",
    "\n",
    "print(reduxInt2(777))"
   ]
  },
  {
   "cell_type": "markdown",
   "id": "4a47b6e8",
   "metadata": {},
   "source": [
    "#### d) Especifique uma função que recebe duas strings, `string1` e `string2`, e devolve o índice da primeira ocorrência de `string2` em `string1`, caso não ocorra nenhuma vez a função deverá retornar `-1`:"
   ]
  },
  {
   "cell_type": "code",
   "execution_count": 16,
   "id": "f0f4c2a8",
   "metadata": {},
   "outputs": [
    {
     "name": "stdout",
     "output_type": "stream",
     "text": [
      "0\n"
     ]
    }
   ],
   "source": [
    "# Invocação: indexOf(\"Hoje está um belo dia de sol!\", \"belo\")\n",
    "# Resultado: 13\n",
    "\n",
    "# Invocação: indexOf(\"Hoje está um belo dia de sol!\", \"chuva\")\n",
    "# Resultado: -1\n",
    "\n",
    "def myIndexOf(s1, s2):\n",
    "    letra = \"\"\n",
    "    for letra in s1: #percorrer a lista \n",
    "        if s2 in s1:\n",
    "            indice = s1.index(s2) #função indice\n",
    "            return indice #retorna o indice de onde começa a s2\n",
    "        else:\n",
    "            return (\"Indice = -1\")\n",
    "\n",
    "print(myIndexOf(\"Hoje está um belo dia de sol!\", \"belo\"))"
   ]
  },
  {
   "cell_type": "markdown",
   "id": "7cd572fc",
   "metadata": {},
   "source": [
    "### tpc-3. A Rede Social\n",
    "\n",
    "Considere que a informação sobre uma rede social está armazenada numa lista de dicionários.\n",
    "\n",
    "Cada dicionário, correspondente a um _post_ e tem chaves `id`, `conteudo`, `autor`, `dataCriacao` e `comentarios`.\n",
    "Por sua vez, `comentarios` é uma lista de dicionários com chaves `comentario` e `autor`.\n",
    "\n",
    "Considere o seguinte exemplo:\n",
    "\n",
    "``` \n",
    "    MyFaceBook = [{\n",
    "        'id': 'p1', \n",
    "        'conteudo': 'A tarefa de avaliação é talvez a mais ingrata das tarefas que um professor\n",
    "    tem de realizar...', \n",
    "        'autor': 'jcr', \n",
    "        'dataCriacao': '2023-07-20', \n",
    "        'comentarios': [\n",
    "            {\n",
    "                'comentario': 'Completamente de acordo...',\n",
    "                'autor': 'prh'\n",
    "            },\n",
    "            {\n",
    "                'comentario': 'Mas há quem goste...',\n",
    "                'autor': 'jj'\n",
    "            }\n",
    "        ]},\n",
    "        {\n",
    "            'id': 'p2',\n",
    "            ...\n",
    "        },\n",
    "        ...\n",
    "        ]\n",
    "```"
   ]
  },
  {
   "cell_type": "markdown",
   "id": "89afc758",
   "metadata": {},
   "source": [
    "Defina as seguintes funções de manipulação e consulta da rede social:"
   ]
  },
  {
   "cell_type": "code",
   "execution_count": 4,
   "id": "bf117534",
   "metadata": {},
   "outputs": [],
   "source": [
    "MyFaceBook = [{'id': 'p1', \n",
    "        'conteudo': 'A tarefa de avaliação é talvez a mais ingrata das tarefas que um professor tem de realizar...', \n",
    "        'autor': 'jcr', \n",
    "        'dataCriacao': '2023-07-20', \n",
    "        'comentarios': [{'comentario': 'Completamente de acordo...', 'autor': 'prh'}, {'comentario': 'Mas há quem goste...','autor': 'jj'}]},\n",
    "        {'id': 'p2', \n",
    "        'conteudo': 'A tarefa de avaliação é talvez a mais ingrata das tarefas que um professor tem de realizar...', \n",
    "        'autor': 'luis', \n",
    "        'dataCriacao': '2023-07-20', \n",
    "        'comentarios': [{'comentario': 'Completamente de acordo...', 'autor': 'prh'}, {'comentario': 'Mas há quem goste...','autor': 'jj'}]},\n",
    "        {'id': 'p3', \n",
    "        'conteudo': 'A tarefa de avaliação é talvez a mais ingrata das tarefas que um professor tem de realizar...', \n",
    "        'autor': 'mariana', \n",
    "        'dataCriacao': '2023-07-20', \n",
    "        'comentarios': [{'comentario': 'Completamente de acordo...', 'autor': 'ana'}, {'comentario': 'Mas há quem goste...','autor': 'jj'}]}]"
   ]
  },
  {
   "cell_type": "markdown",
   "id": "1aec6cd8",
   "metadata": {},
   "source": [
    "#### a) `quantosPost`, que indica quantos posts estão registados:"
   ]
  },
  {
   "cell_type": "code",
   "execution_count": 12,
   "id": "39a813ee",
   "metadata": {},
   "outputs": [
    {
     "name": "stdout",
     "output_type": "stream",
     "text": [
      "3\n"
     ]
    }
   ],
   "source": [
    "def quantodPosts(redeSocial):\n",
    "    contagem = 0\n",
    "    for id in redeSocial:\n",
    "        contagem = contagem + 1\n",
    "    return contagem\n",
    "\n",
    "print (quantodPosts(MyFaceBook))"
   ]
  },
  {
   "cell_type": "markdown",
   "id": "2156a0c8",
   "metadata": {},
   "source": [
    "#### b)  `postsAutor`, que devolve a lista de posts de um determinado autor:"
   ]
  },
  {
   "cell_type": "code",
   "execution_count": 13,
   "id": "8a5a2a41",
   "metadata": {},
   "outputs": [
    {
     "data": {
      "text/plain": [
       "[{'id': 'p1',\n",
       "  'conteudo': 'A tarefa de avaliação é talvez a mais ingrata das tarefas que um professor tem de realizar...',\n",
       "  'autor': 'jcr',\n",
       "  'dataCriacao': '2023-07-20',\n",
       "  'comentarios': [{'comentario': 'Completamente de acordo...', 'autor': 'prh'},\n",
       "   {'comentario': 'Mas há quem goste...', 'autor': 'jj'}]}]"
      ]
     },
     "execution_count": 13,
     "metadata": {},
     "output_type": "execute_result"
    }
   ],
   "source": [
    "def postsAutor(redeSocial, autor):\n",
    "    lista_p=[]\n",
    "    for post in redeSocial:\n",
    "        if post['autor']==autor:\n",
    "            lista_p.append(post)\n",
    "    return lista_p\n",
    "postsAutor(MyFaceBook, \"jcr\")\n",
    " "
   ]
  },
  {
   "cell_type": "markdown",
   "id": "12f9126b",
   "metadata": {},
   "source": [
    "#### c) `autores`, que devolve a lista de autores de posts ordenada alfabeticamente:"
   ]
  },
  {
   "cell_type": "code",
   "execution_count": 14,
   "id": "d9dfe30a",
   "metadata": {},
   "outputs": [
    {
     "name": "stdout",
     "output_type": "stream",
     "text": [
      "['jcr', 'luis', 'mariana']\n"
     ]
    }
   ],
   "source": [
    "def autores(redeSocial):\n",
    "    lista_a = []\n",
    "    for post in redeSocial:\n",
    "        if post['autor'] not in lista_a:\n",
    "            lista_a.append(post['autor'])\n",
    "    lista_a.sort()\n",
    "    return lista_a\n",
    "    \n",
    "        \n",
    "print (autores(MyFaceBook))"
   ]
  },
  {
   "cell_type": "markdown",
   "id": "1a0f760b",
   "metadata": {},
   "source": [
    "#### d) `insPost`, que acrescenta um novo post à rede social a partir dos parâmetros recebidos e devolve a nova rede social. \n",
    "    \n",
    "O campo `id` devrá ser calculado a partir dos já existentes, por exemplo, se a rede tiver posts com id `p1`, `p2` e `p3`, o novo `id` deverá ser `p4`."
   ]
  },
  {
   "cell_type": "code",
   "execution_count": 16,
   "id": "a00c85e3",
   "metadata": {},
   "outputs": [
    {
     "name": "stdout",
     "output_type": "stream",
     "text": [
      "[{'id': 'p1', 'conteudo': 'A tarefa de avaliação é talvez a mais ingrata das tarefas que um professor tem de realizar...', 'autor': 'jcr', 'dataCriacao': '2023-07-20', 'comentarios': [{'comentario': 'Completamente de acordo...', 'autor': 'prh'}, {'comentario': 'Mas há quem goste...', 'autor': 'jj'}]}, {'id': 'p2', 'conteudo': 'A tarefa de avaliação é talvez a mais ingrata das tarefas que um professor tem de realizar...', 'autor': 'luis', 'dataCriacao': '2023-07-20', 'comentarios': [{'comentario': 'Completamente de acordo...', 'autor': 'prh'}, {'comentario': 'Mas há quem goste...', 'autor': 'jj'}]}, {'id': 'p3', 'conteudo': 'A tarefa de avaliação é talvez a mais ingrata das tarefas que um professor tem de realizar...', 'autor': 'mariana', 'dataCriacao': '2023-07-20', 'comentarios': [{'comentario': 'Completamente de acordo...', 'autor': 'ana'}, {'comentario': 'Mas há quem goste...', 'autor': 'jj'}]}, {'id': 'p4', 'conteudo': 'conteudo', 'autor': 'autor', 'dataCriacao': 'dataCriacao', 'comentarios': 'comentarios'}, {'id': 'p5', 'conteudo': 'conteudo', 'autor': 'autor', 'dataCriacao': 'dataCriacao', 'comentarios': 'comentarios'}]\n"
     ]
    }
   ],
   "source": [
    "def insPost(redeSocial, conteudo, autor, dataCriacao, comentarios):\n",
    "    nome = \"p\"+ str(quantodPosts(redeSocial) + 1)\n",
    "    novopost = {'id': nome, 'conteudo': conteudo, 'autor': autor, 'dataCriacao': dataCriacao, 'comentarios': comentarios}\n",
    "    redeSocial.append(novopost)\n",
    "    return redeSocial\n",
    "\n",
    "\n",
    "print (insPost(MyFaceBook, 'conteudo', 'autor', 'dataCriacao', 'comentarios'))"
   ]
  },
  {
   "cell_type": "markdown",
   "id": "65061d0a",
   "metadata": {},
   "source": [
    "#### e)  `remPost`, que remove um post da rede, correspondente ao `id` recebido."
   ]
  },
  {
   "cell_type": "code",
   "execution_count": 17,
   "id": "dc1adabc",
   "metadata": {},
   "outputs": [
    {
     "name": "stdout",
     "output_type": "stream",
     "text": [
      "[{'id': 'p1', 'conteudo': 'A tarefa de avaliação é talvez a mais ingrata das tarefas que um professor tem de realizar...', 'autor': 'jcr', 'dataCriacao': '2023-07-20', 'comentarios': [{'comentario': 'Completamente de acordo...', 'autor': 'prh'}, {'comentario': 'Mas há quem goste...', 'autor': 'jj'}]}, {'id': 'p2', 'conteudo': 'A tarefa de avaliação é talvez a mais ingrata das tarefas que um professor tem de realizar...', 'autor': 'luis', 'dataCriacao': '2023-07-20', 'comentarios': [{'comentario': 'Completamente de acordo...', 'autor': 'prh'}, {'comentario': 'Mas há quem goste...', 'autor': 'jj'}]}, {'id': 'p3', 'conteudo': 'A tarefa de avaliação é talvez a mais ingrata das tarefas que um professor tem de realizar...', 'autor': 'mariana', 'dataCriacao': '2023-07-20', 'comentarios': [{'comentario': 'Completamente de acordo...', 'autor': 'ana'}, {'comentario': 'Mas há quem goste...', 'autor': 'jj'}]}, {'id': 'p5', 'conteudo': 'conteudo', 'autor': 'autor', 'dataCriacao': 'dataCriacao', 'comentarios': 'comentarios'}]\n"
     ]
    }
   ],
   "source": [
    "def remPost(redeSocial, id):\n",
    "    lista2 = []\n",
    "    for post in redeSocial:\n",
    "        if post[\"id\"] != id:\n",
    "            lista2.append(post)\n",
    "    return lista2                  \n",
    "\n",
    "print (remPost(MyFaceBook, 'p4'))"
   ]
  },
  {
   "cell_type": "markdown",
   "id": "de46a635",
   "metadata": {},
   "source": [
    "#### f) `postsPorAutor`, que devolve uma distribuição de posts por autor (à semelhança do que foi feito nas aulas)."
   ]
  },
  {
   "cell_type": "code",
   "execution_count": 19,
   "id": "4118730d",
   "metadata": {},
   "outputs": [
    {
     "name": "stdout",
     "output_type": "stream",
     "text": [
      "[('jcr', {'id': 'p1', 'conteudo': 'A tarefa de avaliação é talvez a mais ingrata das tarefas que um professor tem de realizar...', 'autor': 'jcr', 'dataCriacao': '2023-07-20', 'comentarios': [{'comentario': 'Completamente de acordo...', 'autor': 'prh'}, {'comentario': 'Mas há quem goste...', 'autor': 'jj'}]}), ('luis', {'id': 'p2', 'conteudo': 'A tarefa de avaliação é talvez a mais ingrata das tarefas que um professor tem de realizar...', 'autor': 'luis', 'dataCriacao': '2023-07-20', 'comentarios': [{'comentario': 'Completamente de acordo...', 'autor': 'prh'}, {'comentario': 'Mas há quem goste...', 'autor': 'jj'}]}), ('mariana', {'id': 'p3', 'conteudo': 'A tarefa de avaliação é talvez a mais ingrata das tarefas que um professor tem de realizar...', 'autor': 'mariana', 'dataCriacao': '2023-07-20', 'comentarios': [{'comentario': 'Completamente de acordo...', 'autor': 'ana'}, {'comentario': 'Mas há quem goste...', 'autor': 'jj'}]}), ('autor', {'id': 'p4', 'conteudo': 'conteudo', 'autor': 'autor', 'dataCriacao': 'dataCriacao', 'comentarios': 'comentarios'}), ('autor', {'id': 'p5', 'conteudo': 'conteudo', 'autor': 'autor', 'dataCriacao': 'dataCriacao', 'comentarios': 'comentarios'})]\n"
     ]
    }
   ],
   "source": [
    "def postsPorAutor(redeSocial):\n",
    "    post_autor = []\n",
    "    for post in redeSocial:\n",
    "        res = (post['autor'], post)\n",
    "        post_autor.append(res)\n",
    "    return post_autor\n",
    "\n",
    "print (postsPorAutor(MyFaceBook))   "
   ]
  },
  {
   "cell_type": "markdown",
   "id": "5b1d7d7a",
   "metadata": {},
   "source": [
    "#### g) `comentadoPor`, que recebe um autor e devolve a lista de posts comentados por esse autor."
   ]
  },
  {
   "cell_type": "code",
   "execution_count": 5,
   "id": "a91f2619",
   "metadata": {},
   "outputs": [
    {
     "name": "stdout",
     "output_type": "stream",
     "text": [
      "[]\n"
     ]
    }
   ],
   "source": [
    "def comentadoPor(redeSocial, autor):\n",
    "    lista_c = []\n",
    "    for post in redeSocial:\n",
    "        if post['autor'] == autor:\n",
    "            for comentario in post['comentarios']:\n",
    "                if comentario['autor'] == autor:\n",
    "                    lista_c.append(post)\n",
    "    return lista_c\n",
    "\n",
    "print (comentadoPor(MyFaceBook,'mariana'))"
   ]
  }
 ],
 "metadata": {
  "kernelspec": {
   "display_name": "Python 3.9.1 64-bit",
   "language": "python",
   "name": "python3"
  },
  "language_info": {
   "codemirror_mode": {
    "name": "ipython",
    "version": 3
   },
   "file_extension": ".py",
   "mimetype": "text/x-python",
   "name": "python",
   "nbconvert_exporter": "python",
   "pygments_lexer": "ipython3",
   "version": "3.11.5"
  },
  "vscode": {
   "interpreter": {
    "hash": "aee8b7b246df8f9039afb4144a1f6fd8d2ca17a180786b69acc140d282b71a49"
   }
  }
 },
 "nbformat": 4,
 "nbformat_minor": 5
}
