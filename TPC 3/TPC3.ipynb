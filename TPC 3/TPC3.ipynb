{
 "cells": [
  {
   "cell_type": "code",
   "execution_count": 1,
   "metadata": {},
   "outputs": [
    {
     "name": "stdout",
     "output_type": "stream",
     "text": [
      "O numero é maior\n",
      "O numero é maior\n",
      "O numero é maior\n",
      "O numero é maior\n",
      "O numero é maior\n",
      "O numero é maior\n",
      "O número é menor\n",
      "O número é menor\n",
      "O número é menor\n",
      "O número é menor\n",
      "O número é menor\n",
      "O numero é maior\n",
      "O numero é maior\n",
      "O numero é maior\n",
      "O utilizador acertou em15 tentativas\n"
     ]
    }
   ],
   "source": [
    "#UTILIZADOR ACERTAR\n",
    "import random \n",
    "x = 1\n",
    "a = int(input(\"Pense num numero de 0 a 100\"))\n",
    "n = random.randint(0,100)\n",
    "while a != n:\n",
    "    if a < n :\n",
    "        print(\"O numero é maior\")\n",
    "        a = int(input(\"Pense noutro numero\"))\n",
    "    else:\n",
    "        print(\"O número é menor\")\n",
    "        a = int(input(\"Pense noutro numero\"))\n",
    "    x += 1\n",
    "print(\"O utilizador acertou em \" +str(x)+ \" tentativas\")"
   ]
  },
  {
   "cell_type": "code",
   "execution_count": 2,
   "metadata": {},
   "outputs": [
    {
     "name": "stdout",
     "output_type": "stream",
     "text": [
      "O computador adivinhou o numero em 4 tentativas\n"
     ]
    }
   ],
   "source": [
    "#O COMPUTADOR ACERTAR\n",
    "x = 0\n",
    "c = 0\n",
    "b = 1\n",
    "sup = 100\n",
    "inf = 0\n",
    "a = str()\n",
    "n = \"Acertou\"\n",
    "while a != n:\n",
    "    x = int((sup + inf)/2) # divide o numero de opções a metade\n",
    "    a =  input(\"O número que pensou é \"+str(x)+ \". É maior ou menor\")\n",
    "    if a == \"maior\":\n",
    "        inf = x\n",
    "    else:\n",
    "        sup = x\n",
    "    c += 1\n",
    "print(\"O computador adivinhou o numero em \"+str(c)+ \" tentativas\")\n"
   ]
  }
 ],
 "metadata": {
  "kernelspec": {
   "display_name": "Python 3",
   "language": "python",
   "name": "python3"
  },
  "language_info": {
   "codemirror_mode": {
    "name": "ipython",
    "version": 3
   },
   "file_extension": ".py",
   "mimetype": "text/x-python",
   "name": "python",
   "nbconvert_exporter": "python",
   "pygments_lexer": "ipython3",
   "version": "3.11.5"
  }
 },
 "nbformat": 4,
 "nbformat_minor": 2
}
